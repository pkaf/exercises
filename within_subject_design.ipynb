{
 "cells": [
  {
   "cell_type": "markdown",
   "id": "5e7d39bb",
   "metadata": {},
   "source": [
    "#### Within-subject-design Study"
   ]
  },
  {
   "cell_type": "code",
   "execution_count": 2,
   "id": "85393435",
   "metadata": {},
   "outputs": [],
   "source": [
    "import numpy as np\n",
    "import matplotlib.pyplot as plt"
   ]
  },
  {
   "cell_type": "markdown",
   "id": "71f068b4",
   "metadata": {},
   "source": [
    "A. Parameters of Data Generating Model"
   ]
  },
  {
   "cell_type": "code",
   "execution_count": 8,
   "id": "1bb1533c",
   "metadata": {},
   "outputs": [],
   "source": [
    "mu_control, std_control = 10, 10 \n",
    "target1_uplift = 10 # percentage\n",
    "target2_uplift = 20 # percentage\n",
    "\n",
    "mu_target1 = mu_control * (1 + target1_uplift / 100)\n",
    "mu_target2 = mu_control * (1 + target2_uplift / 100)\n",
    "std_target1 = std_control\n",
    "std_target2 = std_control"
   ]
  },
  {
   "cell_type": "markdown",
   "id": "ff8427bc",
   "metadata": {},
   "source": [
    "B. Synthetic Data Generation"
   ]
  },
  {
   "cell_type": "code",
   "execution_count": 9,
   "id": "f2d561eb",
   "metadata": {},
   "outputs": [],
   "source": [
    "nsamples = 10000\n",
    "control = np.random.normal(mu_control, std_control, nsamples)\n",
    "target1 = np.random.normal(mu_target1, std_target1, nsamples)\n",
    "target2 = np.random.normal(mu_target2, std_target2, nsamples)\n",
    "\n",
    "nhalf = nsamples // 2\n",
    "\n",
    "# Observed data is split into two periods\n",
    "# Period A: first half of the data\n",
    "# Period B: second half of the data\n",
    "# This simulates a within-subject design where each subject experiences both conditions\n",
    "# in different periods with no time effect.\n",
    "periodA_control = control[:nhalf]\n",
    "periodA_target1 = target1[:nhalf]\n",
    "periodA_target2 = target2[:nhalf]\n",
    "\n",
    "periodB_control = control[nhalf:]\n",
    "periodB_target1 = target1[nhalf:]\n",
    "periodB_target2 = target2[nhalf:]\n"
   ]
  },
  {
   "cell_type": "markdown",
   "id": "6c1a3886",
   "metadata": {},
   "source": [
    "C. Measuring Uplift"
   ]
  },
  {
   "cell_type": "code",
   "execution_count": 10,
   "id": "8e5d8646",
   "metadata": {},
   "outputs": [
    {
     "data": {
      "text/plain": [
       "(np.float64(-1.4133752328704403), np.float64(0.8371271369375983))"
      ]
     },
     "execution_count": 10,
     "metadata": {},
     "output_type": "execute_result"
    }
   ],
   "source": [
    "# Calculate the differences in means for each period\n",
    "dAB = periodA_target1 - periodB_target2\n",
    "dBA = periodA_target2 - periodB_target1\n",
    "\n",
    "dAB_mean = np.mean(dAB)\n",
    "dBA_mean = np.mean(dBA)\n",
    "\n",
    "dAB_mean, dBA_mean"
   ]
  },
  {
   "cell_type": "code",
   "execution_count": null,
   "id": "c0e02b9e",
   "metadata": {},
   "outputs": [],
   "source": []
  }
 ],
 "metadata": {
  "kernelspec": {
   "display_name": "exercises",
   "language": "python",
   "name": "python3"
  },
  "language_info": {
   "codemirror_mode": {
    "name": "ipython",
    "version": 3
   },
   "file_extension": ".py",
   "mimetype": "text/x-python",
   "name": "python",
   "nbconvert_exporter": "python",
   "pygments_lexer": "ipython3",
   "version": "3.12.3"
  }
 },
 "nbformat": 4,
 "nbformat_minor": 5
}
